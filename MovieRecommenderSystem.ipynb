{
 "cells": [
  {
   "cell_type": "markdown",
   "id": "61a78703",
   "metadata": {},
   "source": [
    "Import Basic Libraries"
   ]
  },
  {
   "cell_type": "code",
   "execution_count": null,
   "id": "1d454c47",
   "metadata": {},
   "outputs": [],
   "source": [
    "import numpy as np\n",
    "import pandas as pd\n",
    "import seaborn as sns\n",
    "import matplotlib.pyplot as plt"
   ]
  },
  {
   "cell_type": "markdown",
   "id": "bb90da53",
   "metadata": {},
   "source": [
    "Reading The Dataset"
   ]
  },
  {
   "cell_type": "code",
   "execution_count": null,
   "id": "53709750",
   "metadata": {},
   "outputs": [],
   "source": [
    "movies = pd.read_csv('tmdb_5000_movies.csv')\n",
    "credit = pd.read_csv('tmdb_5000_credits.csv')"
   ]
  },
  {
   "cell_type": "markdown",
   "id": "67d143b3",
   "metadata": {},
   "source": [
    "Merging the dataframes"
   ]
  },
  {
   "cell_type": "code",
   "execution_count": null,
   "id": "d7750c8d",
   "metadata": {},
   "outputs": [],
   "source": [
    "data = movies.merge(credit, on='title')"
   ]
  },
  {
   "cell_type": "code",
   "execution_count": null,
   "id": "b1c4d433",
   "metadata": {},
   "outputs": [],
   "source": [
    "data.head(1)"
   ]
  },
  {
   "cell_type": "code",
   "execution_count": null,
   "id": "f53d0617",
   "metadata": {},
   "outputs": [],
   "source": [
    "# Required columns from this dataset\n",
    "\n",
    "# movie_id, title, overview, genres, keywords, cast, crew\n",
    "\n",
    "data = data[['movie_id', 'title', 'overview', 'genres', 'keywords', 'cast', 'crew']]"
   ]
  },
  {
   "cell_type": "markdown",
   "id": "31a7cc69",
   "metadata": {},
   "source": [
    "Checking for empty data"
   ]
  },
  {
   "cell_type": "code",
   "execution_count": null,
   "id": "1ba8fdf2",
   "metadata": {},
   "outputs": [],
   "source": [
    "data.isnull().sum()"
   ]
  },
  {
   "cell_type": "markdown",
   "id": "ca179ab1",
   "metadata": {},
   "source": [
    "Drop the movies with null overview"
   ]
  },
  {
   "cell_type": "code",
   "execution_count": null,
   "id": "d0bc365e",
   "metadata": {},
   "outputs": [],
   "source": [
    "data.dropna(inplace=True)"
   ]
  },
  {
   "cell_type": "markdown",
   "id": "24c16084",
   "metadata": {},
   "source": [
    "Doing preprocessing on generes column "
   ]
  },
  {
   "cell_type": "code",
   "execution_count": null,
   "id": "bc9ce563",
   "metadata": {},
   "outputs": [],
   "source": [
    "data.iloc[0].genres"
   ]
  },
  {
   "cell_type": "markdown",
   "id": "6c45a595",
   "metadata": {},
   "source": [
    "ast.literal_eval converts list in form of string to list"
   ]
  },
  {
   "cell_type": "code",
   "execution_count": null,
   "id": "3c0a1858",
   "metadata": {},
   "outputs": [],
   "source": [
    "import ast\n",
    "\n",
    "def convert(obj):\n",
    "    L = []\n",
    "    for i in ast.literal_eval(obj):\n",
    "        L.append(i['name'])\n",
    "    return L"
   ]
  },
  {
   "cell_type": "code",
   "execution_count": null,
   "id": "f8a65be3",
   "metadata": {},
   "outputs": [],
   "source": [
    "data['genres'] = data['genres'].apply(convert)"
   ]
  },
  {
   "cell_type": "code",
   "execution_count": null,
   "id": "85f91a3b",
   "metadata": {},
   "outputs": [],
   "source": [
    "data['genres']"
   ]
  },
  {
   "cell_type": "markdown",
   "id": "a10d181c",
   "metadata": {},
   "source": [
    "Preprocessing for keywords column"
   ]
  },
  {
   "cell_type": "code",
   "execution_count": null,
   "id": "71dd8ada",
   "metadata": {},
   "outputs": [],
   "source": [
    "data['keywords'] = data['keywords'].apply(convert)"
   ]
  },
  {
   "cell_type": "code",
   "execution_count": null,
   "id": "47ed06ec",
   "metadata": {},
   "outputs": [],
   "source": [
    "data['keywords']"
   ]
  },
  {
   "cell_type": "markdown",
   "id": "6f2d408d",
   "metadata": {},
   "source": [
    "Preprocessing on cast column"
   ]
  },
  {
   "cell_type": "code",
   "execution_count": null,
   "id": "5187ab20",
   "metadata": {},
   "outputs": [],
   "source": [
    "def convert1(obj):\n",
    "    L = []\n",
    "    counter = 0\n",
    "    for i in ast.literal_eval(obj):\n",
    "        if counter < 3:\n",
    "            L.append(i['name'])\n",
    "        else :\n",
    "            break\n",
    "        counter += 1\n",
    "    return L"
   ]
  },
  {
   "cell_type": "code",
   "execution_count": null,
   "id": "c53524cb",
   "metadata": {},
   "outputs": [],
   "source": [
    "data['cast'] = data['cast'].apply(convert1)"
   ]
  },
  {
   "cell_type": "code",
   "execution_count": null,
   "id": "eb6abd22",
   "metadata": {},
   "outputs": [],
   "source": [
    "data['cast']"
   ]
  },
  {
   "cell_type": "markdown",
   "id": "5367f499",
   "metadata": {},
   "source": [
    "Preprocessing on crew column"
   ]
  },
  {
   "cell_type": "code",
   "execution_count": null,
   "id": "3243f72c",
   "metadata": {},
   "outputs": [],
   "source": [
    "# ...existing code...\n",
    "import ast\n",
    "\n",
    "def safe_literal(obj):\n",
    "    if isinstance(obj, list):\n",
    "        return obj\n",
    "    try:\n",
    "        return ast.literal_eval(obj)\n",
    "    except (ValueError, SyntaxError, TypeError):\n",
    "        return []\n",
    "\n",
    "def convert2(obj):\n",
    "    items = safe_literal(obj)\n",
    "    return [d.get('name') for d in items if isinstance(d, dict) and d.get('job') == 'Director']\n",
    "\n",
    "# Re-run safely (won't break if already converted)\n",
    "data['crew'] = data['crew'].apply(convert2)\n",
    "# ...existing code..."
   ]
  },
  {
   "cell_type": "code",
   "execution_count": null,
   "id": "f1d96d89",
   "metadata": {},
   "outputs": [],
   "source": [
    "data['crew']"
   ]
  },
  {
   "cell_type": "code",
   "execution_count": null,
   "id": "5f6ef12f",
   "metadata": {},
   "outputs": [],
   "source": [
    "data['overview'] = data['overview'].apply(lambda x: x.split())\n",
    "data['overview']"
   ]
  },
  {
   "cell_type": "code",
   "execution_count": null,
   "id": "3e70fbb1",
   "metadata": {},
   "outputs": [],
   "source": [
    "data['cast'] = data['cast'].apply(lambda x : [i.replace(\" \",\"\") for i in x])\n",
    "data['crew'] = data['crew'].apply(lambda x : [i.replace(\" \",\"\") for i in x])\n",
    "data['keywords'] = data['keywords'].apply(lambda x : [i.replace(\" \",\"\") for i in x])\n",
    "data['genres'] = data['genres'].apply(lambda x : [i.replace(\" \",\"\") for i in x])"
   ]
  },
  {
   "cell_type": "code",
   "execution_count": null,
   "id": "73eab676",
   "metadata": {},
   "outputs": [],
   "source": [
    "data.head()"
   ]
  },
  {
   "cell_type": "code",
   "execution_count": null,
   "id": "a42de0a0",
   "metadata": {},
   "outputs": [],
   "source": [
    "data['tags'] = data['overview'] + data['genres'] + data['keywords'] + data['cast'] + data['crew']\n",
    "new_data = data[['movie_id', 'title', 'tags']]\n",
    "new_data.head()"
   ]
  },
  {
   "cell_type": "code",
   "execution_count": null,
   "id": "5ca5391c",
   "metadata": {},
   "outputs": [],
   "source": [
    "new_data['tags'] = new_data['tags'].apply(lambda x:\" \".join(x))\n",
    "new_data['tags']"
   ]
  },
  {
   "cell_type": "code",
   "execution_count": null,
   "id": "d711518d",
   "metadata": {},
   "outputs": [],
   "source": [
    "new_data.head()"
   ]
  },
  {
   "cell_type": "code",
   "execution_count": null,
   "id": "506974f4",
   "metadata": {},
   "outputs": [],
   "source": [
    "new_data['tags'] = new_data['tags'].apply(lambda x: x.lower())\n",
    "new_data.head()"
   ]
  },
  {
   "cell_type": "markdown",
   "id": "517bc58e",
   "metadata": {},
   "source": [
    "Merging similar words"
   ]
  },
  {
   "cell_type": "code",
   "execution_count": null,
   "id": "4f367970",
   "metadata": {},
   "outputs": [],
   "source": [
    "import nltk\n",
    "from nltk.stem.porter import PorterStemmer\n",
    "ps = PorterStemmer()\n",
    "\n",
    "\n",
    "def stem(text):\n",
    "    L = []\n",
    "    for i in text.split():\n",
    "        ps.stem(i)\n",
    "        L.append(ps.stem(i))\n",
    "    return \" \".join(L)"
   ]
  },
  {
   "cell_type": "code",
   "execution_count": null,
   "id": "56e14f3f",
   "metadata": {},
   "outputs": [],
   "source": [
    "new_data['tags'] = new_data['tags'].apply(stem)"
   ]
  },
  {
   "cell_type": "markdown",
   "id": "57127367",
   "metadata": {},
   "source": [
    "Vectorization\n"
   ]
  },
  {
   "cell_type": "code",
   "execution_count": null,
   "id": "03ac735e",
   "metadata": {},
   "outputs": [],
   "source": [
    "from sklearn.feature_extraction.text import CountVectorizer\n",
    "cv = CountVectorizer(max_features=5000, stop_words='english')"
   ]
  },
  {
   "cell_type": "code",
   "execution_count": null,
   "id": "9280530d",
   "metadata": {},
   "outputs": [],
   "source": [
    "vectors = cv.fit_transform(new_data['tags']).toarray()"
   ]
  },
  {
   "cell_type": "code",
   "execution_count": null,
   "id": "47585054",
   "metadata": {},
   "outputs": [],
   "source": [
    "vectors"
   ]
  },
  {
   "cell_type": "code",
   "execution_count": null,
   "id": "95f78a63",
   "metadata": {},
   "outputs": [],
   "source": [
    "cv.get_feature_names_out()"
   ]
  },
  {
   "cell_type": "code",
   "execution_count": null,
   "id": "14696485",
   "metadata": {},
   "outputs": [],
   "source": [
    "from sklearn.metrics.pairwise import cosine_similarity"
   ]
  },
  {
   "cell_type": "code",
   "execution_count": null,
   "id": "21df03fb",
   "metadata": {},
   "outputs": [],
   "source": [
    "similarity = cosine_similarity(vectors)"
   ]
  },
  {
   "cell_type": "code",
   "execution_count": null,
   "id": "08c9ff48",
   "metadata": {},
   "outputs": [],
   "source": [
    "similarity[0]"
   ]
  },
  {
   "cell_type": "code",
   "execution_count": null,
   "id": "464204a7",
   "metadata": {},
   "outputs": [],
   "source": [
    "def recommend(movie):\n",
    "    movie_index = new_data[new_data['title'] == movie].index[0]\n",
    "    distances = similarity[movie_index]\n",
    "    movies_list = sorted(list(enumerate(distances)), reverse=True, key=lambda x: x[1])[1:6] \n",
    "\n",
    "    for i in movies_list:\n",
    "        print(new_data.iloc[i[0]].title)"
   ]
  },
  {
   "cell_type": "code",
   "execution_count": null,
   "id": "5ea02af7",
   "metadata": {},
   "outputs": [],
   "source": [
    "recommend('Avatar')"
   ]
  }
 ],
 "metadata": {
  "kernelspec": {
   "display_name": "Python 3",
   "language": "python",
   "name": "python3"
  },
  "language_info": {
   "codemirror_mode": {
    "name": "ipython",
    "version": 3
   },
   "file_extension": ".py",
   "mimetype": "text/x-python",
   "name": "python",
   "nbconvert_exporter": "python",
   "pygments_lexer": "ipython3",
   "version": "3.13.4"
  }
 },
 "nbformat": 4,
 "nbformat_minor": 5
}
